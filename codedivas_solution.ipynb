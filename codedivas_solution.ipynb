{
 "cells": [
  {
   "cell_type": "code",
   "execution_count": 1,
   "id": "30620133",
   "metadata": {
    "_cell_guid": "b1076dfc-b9ad-4769-8c92-a6c4dae69d19",
    "_uuid": "8f2839f25d086af736a60e9eeb907d3b93b6e0e5",
    "execution": {
     "iopub.execute_input": "2025-06-14T11:03:18.419877Z",
     "iopub.status.busy": "2025-06-14T11:03:18.419550Z",
     "iopub.status.idle": "2025-06-14T11:03:20.336370Z",
     "shell.execute_reply": "2025-06-14T11:03:20.335389Z"
    },
    "papermill": {
     "duration": 1.922378,
     "end_time": "2025-06-14T11:03:20.337974",
     "exception": false,
     "start_time": "2025-06-14T11:03:18.415596",
     "status": "completed"
    },
    "tags": []
   },
   "outputs": [
    {
     "name": "stdout",
     "output_type": "stream",
     "text": [
      "/kaggle/input/burnout-datathon-ieeecsmuj/sample_submission.csv\n",
      "/kaggle/input/burnout-datathon-ieeecsmuj/val.csv\n",
      "/kaggle/input/burnout-datathon-ieeecsmuj/train.csv\n",
      "/kaggle/input/burnout-datathon-ieeecsmuj/test.csv\n",
      "/kaggle/input/zipdataset/sample_submission.csv\n",
      "/kaggle/input/zipdataset/val.csv\n",
      "/kaggle/input/zipdataset/train.csv\n",
      "/kaggle/input/zipdataset/test.csv\n"
     ]
    }
   ],
   "source": [
    "# This Python 3 environment comes with many helpful analytics libraries installed\n",
    "# It is defined by the kaggle/python Docker image: https://github.com/kaggle/docker-python\n",
    "# For example, here's several helpful packages to load\n",
    "\n",
    "import numpy as np # linear algebra\n",
    "import pandas as pd # data processing, CSV file I/O (e.g. pd.read_csv)\n",
    "\n",
    "# Input data files are available in the read-only \"../input/\" directory\n",
    "# For example, running this (by clicking run or pressing Shift+Enter) will list all files under the input directory\n",
    "\n",
    "import os\n",
    "for dirname, _, filenames in os.walk('/kaggle/input'):\n",
    "    for filename in filenames:\n",
    "        print(os.path.join(dirname, filename))\n",
    "\n",
    "# You can write up to 20GB to the current directory (/kaggle/working/) that gets preserved as output when you create a version using \"Save & Run All\" \n",
    "# You can also write temporary files to /kaggle/temp/, but they won't be saved outside of the current session"
   ]
  },
  {
   "cell_type": "code",
   "execution_count": 2,
   "id": "b55754c6",
   "metadata": {
    "execution": {
     "iopub.execute_input": "2025-06-14T11:03:20.344137Z",
     "iopub.status.busy": "2025-06-14T11:03:20.343758Z",
     "iopub.status.idle": "2025-06-14T11:03:44.882214Z",
     "shell.execute_reply": "2025-06-14T11:03:44.881398Z"
    },
    "papermill": {
     "duration": 24.544132,
     "end_time": "2025-06-14T11:03:44.884870",
     "exception": false,
     "start_time": "2025-06-14T11:03:20.340738",
     "status": "completed"
    },
    "tags": []
   },
   "outputs": [
    {
     "name": "stdout",
     "output_type": "stream",
     "text": [
      "Train Shape: (1914056, 45)\n",
      "Test Shape: (546874, 44)\n",
      "Validation Shape: (273437, 45)\n",
      "\n",
      "Train Head:\n",
      "    Unique ID  Rider_ID category_x  Circuit_Length_km  Laps  Grid_Position  \\\n",
      "0    1894944      2659      Moto2              4.874    22             17   \n",
      "1      23438      5205      Moto2              3.875    24              7   \n",
      "2     939678      7392      Moto3              5.647    25              5   \n",
      "3    1196312      7894      Moto3              4.810    19              3   \n",
      "4    1033899      6163     MotoGP              5.809    25             21   \n",
      "\n",
      "   Avg_Speed_kmh Track_Condition  Humidity_% Tire_Compound_Front  ... air  \\\n",
      "0         264.66             Wet          61                Hard  ...  23   \n",
      "1         177.56             Wet          77                Soft  ...  12   \n",
      "2         317.74             Dry          87                Soft  ...  22   \n",
      "3         321.82             Wet          43                Soft  ...  23   \n",
      "4         239.92             Wet          47                Hard  ...  22   \n",
      "\n",
      "  ground  starts  finishes with_points  podiums  wins  min_year  max_year  \\\n",
      "0     35      53        45          41        4     0      2018      2021   \n",
      "1     12      27        27          22        2     1      1975      1983   \n",
      "2     23      45        43          10        0     0      1982      1989   \n",
      "3     35     192       172         155       16     9      1994      2009   \n",
      "4     31     175       146         132       29    17      2011      2021   \n",
      "\n",
      "   years_active  \n",
      "0             4  \n",
      "1             8  \n",
      "2             8  \n",
      "3            16  \n",
      "4            11  \n",
      "\n",
      "[5 rows x 45 columns]\n",
      "\n",
      "Missing values in Train:\n",
      " Unique ID                               0\n",
      "Rider_ID                                0\n",
      "category_x                              0\n",
      "Circuit_Length_km                       0\n",
      "Laps                                    0\n",
      "Grid_Position                           0\n",
      "Avg_Speed_kmh                           0\n",
      "Track_Condition                         0\n",
      "Humidity_%                              0\n",
      "Tire_Compound_Front                     0\n",
      "Tire_Compound_Rear                      0\n",
      "Penalty                            321292\n",
      "Championship_Points                     0\n",
      "Championship_Position                   0\n",
      "Session                                 0\n",
      "year_x                                  0\n",
      "sequence                                0\n",
      "rider                                   0\n",
      "team                                    0\n",
      "bike                                    0\n",
      "position                                0\n",
      "points                                  0\n",
      "shortname                               0\n",
      "circuit_name                            0\n",
      "rider_name                              0\n",
      "team_name                               0\n",
      "bike_name                               0\n",
      "Lap_Time_Seconds                        0\n",
      "Corners_per_Lap                         0\n",
      "Tire_Degradation_Factor_per_Lap         0\n",
      "Pit_Stop_Duration_Seconds               0\n",
      "Ambient_Temperature_Celsius             0\n",
      "Track_Temperature_Celsius               0\n",
      "weather                                 0\n",
      "track                                   0\n",
      "air                                     0\n",
      "ground                                  0\n",
      "starts                                  0\n",
      "finishes                                0\n",
      "with_points                             0\n",
      "podiums                                 0\n",
      "wins                                    0\n",
      "min_year                                0\n",
      "max_year                                0\n",
      "years_active                            0\n",
      "dtype: int64\n",
      "\n",
      "Data Types:\n",
      " Unique ID                            int64\n",
      "Rider_ID                             int64\n",
      "category_x                          object\n",
      "Circuit_Length_km                  float64\n",
      "Laps                                 int64\n",
      "Grid_Position                        int64\n",
      "Avg_Speed_kmh                      float64\n",
      "Track_Condition                     object\n",
      "Humidity_%                           int64\n",
      "Tire_Compound_Front                 object\n",
      "Tire_Compound_Rear                  object\n",
      "Penalty                             object\n",
      "Championship_Points                  int64\n",
      "Championship_Position                int64\n",
      "Session                             object\n",
      "year_x                               int64\n",
      "sequence                             int64\n",
      "rider                                int64\n",
      "team                                 int64\n",
      "bike                                 int64\n",
      "position                             int64\n",
      "points                             float64\n",
      "shortname                           object\n",
      "circuit_name                        object\n",
      "rider_name                          object\n",
      "team_name                           object\n",
      "bike_name                           object\n",
      "Lap_Time_Seconds                   float64\n",
      "Corners_per_Lap                      int64\n",
      "Tire_Degradation_Factor_per_Lap    float64\n",
      "Pit_Stop_Duration_Seconds          float64\n",
      "Ambient_Temperature_Celsius        float64\n",
      "Track_Temperature_Celsius          float64\n",
      "weather                             object\n",
      "track                               object\n",
      "air                                  int64\n",
      "ground                               int64\n",
      "starts                               int64\n",
      "finishes                             int64\n",
      "with_points                          int64\n",
      "podiums                              int64\n",
      "wins                                 int64\n",
      "min_year                             int64\n",
      "max_year                             int64\n",
      "years_active                         int64\n",
      "dtype: object\n"
     ]
    }
   ],
   "source": [
    "import pandas as pd\n",
    "\n",
    "# Load datasets\n",
    "train = pd.read_csv('/kaggle/input/burnout-datathon-ieeecsmuj/train.csv')\n",
    "test = pd.read_csv('/kaggle/input/burnout-datathon-ieeecsmuj/test.csv')\n",
    "val = pd.read_csv('/kaggle/input/burnout-datathon-ieeecsmuj/val.csv')\n",
    "sample_submission = pd.read_csv('/kaggle/input/burnout-datathon-ieeecsmuj/sample_submission.csv')\n",
    "\n",
    "# Basic Overview\n",
    "print(\"Train Shape:\", train.shape)\n",
    "print(\"Test Shape:\", test.shape)\n",
    "print(\"Validation Shape:\", val.shape)\n",
    "\n",
    "# First few rows\n",
    "print(\"\\nTrain Head:\\n\", train.head())\n",
    "\n",
    "# Missing values\n",
    "print(\"\\nMissing values in Train:\\n\", train.isnull().sum())\n",
    "\n",
    "# Data types\n",
    "print(\"\\nData Types:\\n\", train.dtypes)\n"
   ]
  },
  {
   "cell_type": "code",
   "execution_count": 3,
   "id": "1173d1c4",
   "metadata": {
    "execution": {
     "iopub.execute_input": "2025-06-14T11:03:44.891411Z",
     "iopub.status.busy": "2025-06-14T11:03:44.890858Z",
     "iopub.status.idle": "2025-06-14T11:03:44.894165Z",
     "shell.execute_reply": "2025-06-14T11:03:44.893499Z"
    },
    "papermill": {
     "duration": 0.007767,
     "end_time": "2025-06-14T11:03:44.895453",
     "exception": false,
     "start_time": "2025-06-14T11:03:44.887686",
     "status": "completed"
    },
    "tags": []
   },
   "outputs": [],
   "source": [
    "#To predict the Lap_Time_Seconds for each rider in the test.csv file based on the features available.\n",
    "\n"
   ]
  },
  {
   "cell_type": "code",
   "execution_count": 4,
   "id": "eeade4be",
   "metadata": {
    "execution": {
     "iopub.execute_input": "2025-06-14T11:03:44.901388Z",
     "iopub.status.busy": "2025-06-14T11:03:44.901089Z",
     "iopub.status.idle": "2025-06-14T11:03:44.907756Z",
     "shell.execute_reply": "2025-06-14T11:03:44.906767Z"
    },
    "papermill": {
     "duration": 0.010992,
     "end_time": "2025-06-14T11:03:44.908986",
     "exception": false,
     "start_time": "2025-06-14T11:03:44.897994",
     "status": "completed"
    },
    "tags": []
   },
   "outputs": [
    {
     "name": "stdout",
     "output_type": "stream",
     "text": [
      "/kaggle/input/burnout-datathon-ieeecsmuj/sample_submission.csv\n",
      "/kaggle/input/burnout-datathon-ieeecsmuj/val.csv\n",
      "/kaggle/input/burnout-datathon-ieeecsmuj/train.csv\n",
      "/kaggle/input/burnout-datathon-ieeecsmuj/test.csv\n",
      "/kaggle/input/zipdataset/sample_submission.csv\n",
      "/kaggle/input/zipdataset/val.csv\n",
      "/kaggle/input/zipdataset/train.csv\n",
      "/kaggle/input/zipdataset/test.csv\n"
     ]
    }
   ],
   "source": [
    "import numpy as np # linear algebra\n",
    "import pandas as pd # data processing, CSV file I/O (e.g. pd.read_csv)\n",
    "\n",
    "# Input data files are available in the read-only \"../input/\" directory\n",
    "# For example, running this (by clicking run or pressing Shift+Enter) will list all files under the input directory\n",
    "\n",
    "import os\n",
    "for dirname, _, filenames in os.walk('/kaggle/input'):\n",
    "    for filename in filenames:\n",
    "        print(os.path.join(dirname, filename))"
   ]
  },
  {
   "cell_type": "code",
   "execution_count": 5,
   "id": "72cc17a0",
   "metadata": {
    "execution": {
     "iopub.execute_input": "2025-06-14T11:03:44.915226Z",
     "iopub.status.busy": "2025-06-14T11:03:44.914605Z",
     "iopub.status.idle": "2025-06-14T11:04:11.403379Z",
     "shell.execute_reply": "2025-06-14T11:04:11.402286Z"
    },
    "papermill": {
     "duration": 26.493453,
     "end_time": "2025-06-14T11:04:11.405051",
     "exception": false,
     "start_time": "2025-06-14T11:03:44.911598",
     "status": "completed"
    },
    "tags": []
   },
   "outputs": [
    {
     "name": "stdout",
     "output_type": "stream",
     "text": [
      "Shape after preprocessing: (1914056, 43)\n"
     ]
    }
   ],
   "source": [
    "import pandas as pd\n",
    "from sklearn.impute import SimpleImputer\n",
    "from sklearn.preprocessing import LabelEncoder, StandardScaler\n",
    "\n",
    "# Load the data\n",
    "df = pd.read_csv('/kaggle/input/burnout-datathon-ieeecsmuj/train.csv')\n",
    "\n",
    "# 🔍 2.1 Check & Fill Missing Values\n",
    "# Separate numerical and categorical columns\n",
    "num_cols = df.select_dtypes(include=['int64', 'float64']).columns\n",
    "cat_cols = df.select_dtypes(include=['object']).columns\n",
    "\n",
    "# Fill numerical missing values with mean\n",
    "num_imputer = SimpleImputer(strategy='mean')\n",
    "df[num_cols] = num_imputer.fit_transform(df[num_cols])\n",
    "\n",
    "# Fill categorical missing values with most frequent (mode)\n",
    "cat_imputer = SimpleImputer(strategy='most_frequent')\n",
    "df[cat_cols] = cat_imputer.fit_transform(df[cat_cols])\n",
    "\n",
    "# 🔡 2.2 Encode Categorical Columns\n",
    "# You can apply Label Encoding to each categorical column\n",
    "label_encoders = {}\n",
    "for col in cat_cols:\n",
    "    le = LabelEncoder()\n",
    "    df[col] = le.fit_transform(df[col])\n",
    "    label_encoders[col] = le  # store the encoder in case needed later\n",
    "\n",
    "# 📏 2.3 Feature Scaling (Optional but good practice for some models)\n",
    "scaler = StandardScaler()\n",
    "df[num_cols] = scaler.fit_transform(df[num_cols])\n",
    "\n",
    "# 🧹 2.4 Drop Irrelevant or Leakage Columns\n",
    "# Drop columns like Unique ID or anything not useful for modeling\n",
    "cols_to_drop = ['Unique ID', 'Rider_ID']  # add/remove based on EDA\n",
    "df.drop(columns=cols_to_drop, inplace=True, errors='ignore')\n",
    "\n",
    "# ✅ Final shape of preprocessed dataset\n",
    "print(\"Shape after preprocessing:\", df.shape)"
   ]
  },
  {
   "cell_type": "code",
   "execution_count": 6,
   "id": "d85d42ed",
   "metadata": {
    "execution": {
     "iopub.execute_input": "2025-06-14T11:04:11.411733Z",
     "iopub.status.busy": "2025-06-14T11:04:11.411393Z",
     "iopub.status.idle": "2025-06-14T11:06:28.897771Z",
     "shell.execute_reply": "2025-06-14T11:06:28.896994Z"
    },
    "papermill": {
     "duration": 137.491635,
     "end_time": "2025-06-14T11:06:28.899416",
     "exception": false,
     "start_time": "2025-06-14T11:04:11.407781",
     "status": "completed"
    },
    "tags": []
   },
   "outputs": [
    {
     "name": "stdout",
     "output_type": "stream",
     "text": [
      "Validation RMSE: 5.336489425563644\n"
     ]
    }
   ],
   "source": [
    "\n",
    "import pandas as pd\n",
    "import numpy as np\n",
    "import matplotlib.pyplot as plt\n",
    "import seaborn as sns\n",
    "from sklearn.impute import SimpleImputer\n",
    "from sklearn.preprocessing import LabelEncoder, StandardScaler\n",
    "from sklearn.model_selection import train_test_split\n",
    "from sklearn.metrics import mean_squared_error\n",
    "from xgboost import XGBRegressor\n",
    "import warnings\n",
    "warnings.filterwarnings('ignore')\n",
    "\n",
    "train_df = pd.read_csv(\"/kaggle/input/burnout-datathon-ieeecsmuj/train.csv\")\n",
    "test_df = pd.read_csv(\"/kaggle/input/burnout-datathon-ieeecsmuj/test.csv\")\n",
    "val_df = pd.read_csv(\"/kaggle/input/burnout-datathon-ieeecsmuj/val.csv\")\n",
    "\n",
    "#  Set target variable\n",
    "y = train_df['Lap_Time_Seconds']\n",
    "X = train_df.drop(columns=['Lap_Time_Seconds', 'Unique ID', 'Rider_ID'], errors='ignore')\n",
    "\n",
    "\n",
    "num_features = X.select_dtypes(include=['int64', 'float64']).columns\n",
    "cat_features = X.select_dtypes(include='object').columns\n",
    "\n",
    "\n",
    "num_imputer = SimpleImputer(strategy='mean')\n",
    "X[num_features] = num_imputer.fit_transform(X[num_features])\n",
    "test_df[num_features] = num_imputer.transform(test_df[num_features])\n",
    "val_df[num_features] = num_imputer.transform(val_df[num_features])\n",
    "\n",
    "cat_imputer = SimpleImputer(strategy='most_frequent')\n",
    "X[cat_features] = cat_imputer.fit_transform(X[cat_features])\n",
    "test_df[cat_features] = cat_imputer.transform(test_df[cat_features])\n",
    "val_df[cat_features] = cat_imputer.transform(val_df[cat_features])\n",
    "\n",
    "\n",
    "label_encoders = {}\n",
    "for col in cat_features:\n",
    "    encoder = LabelEncoder()\n",
    "    X[col] = encoder.fit_transform(X[col])\n",
    "    test_df[col] = encoder.transform(test_df[col])\n",
    "    val_df[col] = encoder.transform(val_df[col])\n",
    "    label_encoders[col] = encoder\n",
    "\n",
    "\n",
    "scaler = StandardScaler()\n",
    "X[num_features] = scaler.fit_transform(X[num_features])\n",
    "test_df[num_features] = scaler.transform(test_df[num_features])\n",
    "val_df[num_features] = scaler.transform(val_df[num_features])\n",
    "\n",
    "X_train, X_valid, y_train, y_valid = train_test_split(X, y, test_size=0.1, random_state=42)\n",
    "\n",
    "#  XGBoost Model Training\n",
    "model = XGBRegressor(n_estimators=500,\n",
    "                     learning_rate=0.05,\n",
    "                     max_depth=10,\n",
    "                     subsample=0.8,\n",
    "                     colsample_bytree=0.8,\n",
    "                     random_state=42,\n",
    "                     tree_method='hist')\n",
    "model.fit(X_train, y_train)\n",
    "\n",
    "y_pred_valid = model.predict(X_valid)\n",
    "rmse = np.sqrt(mean_squared_error(y_valid, y_pred_valid))\n",
    "print(\"Validation RMSE:\", rmse)\n",
    "\n",
    "\n",
    "test_predictions = model.predict(test_df.drop(columns=['Unique ID', 'Rider_ID'], errors='ignore'))\n",
    "\n",
    "submission = pd.DataFrame({\n",
    "    'Unique ID': test_df['Unique ID'],\n",
    "    'Lap_Time_Seconds': test_predictions\n",
    "})\n",
    "submission.to_csv(\"submission.csv\", index=False)\n",
    "\n",
    "\n"
   ]
  }
 ],
 "metadata": {
  "kaggle": {
   "accelerator": "none",
   "dataSources": [
    {
     "databundleVersionId": 12651513,
     "sourceId": 104857,
     "sourceType": "competition"
    },
    {
     "datasetId": 7659970,
     "sourceId": 12162370,
     "sourceType": "datasetVersion"
    }
   ],
   "dockerImageVersionId": 31040,
   "isGpuEnabled": false,
   "isInternetEnabled": true,
   "language": "python",
   "sourceType": "notebook"
  },
  "kernelspec": {
   "display_name": "Python 3",
   "language": "python",
   "name": "python3"
  },
  "language_info": {
   "codemirror_mode": {
    "name": "ipython",
    "version": 3
   },
   "file_extension": ".py",
   "mimetype": "text/x-python",
   "name": "python",
   "nbconvert_exporter": "python",
   "pygments_lexer": "ipython3",
   "version": "3.11.11"
  },
  "papermill": {
   "default_parameters": {},
   "duration": 196.316797,
   "end_time": "2025-06-14T11:06:29.923848",
   "environment_variables": {},
   "exception": null,
   "input_path": "__notebook__.ipynb",
   "output_path": "__notebook__.ipynb",
   "parameters": {},
   "start_time": "2025-06-14T11:03:13.607051",
   "version": "2.6.0"
  }
 },
 "nbformat": 4,
 "nbformat_minor": 5
}
